{
  "nbformat": 4,
  "nbformat_minor": 0,
  "metadata": {
    "colab": {
      "provenance": [],
      "gpuType": "A100",
      "machine_shape": "hm"
    },
    "kernelspec": {
      "name": "python3",
      "display_name": "Python 3"
    },
    "language_info": {
      "name": "python"
    },
    "widgets": {
      "application/vnd.jupyter.widget-state+json": {
        "4316cdbef17a410a8c8b299ce5f39921": {
          "model_module": "@jupyter-widgets/controls",
          "model_name": "HBoxModel",
          "model_module_version": "1.5.0",
          "state": {
            "_dom_classes": [],
            "_model_module": "@jupyter-widgets/controls",
            "_model_module_version": "1.5.0",
            "_model_name": "HBoxModel",
            "_view_count": null,
            "_view_module": "@jupyter-widgets/controls",
            "_view_module_version": "1.5.0",
            "_view_name": "HBoxView",
            "box_style": "",
            "children": [
              "IPY_MODEL_c070edefef87460faba44dba6cee827f",
              "IPY_MODEL_460c049d8c04442a9057a2737399e976",
              "IPY_MODEL_d9e4dbeb01a54d43bff403107e7f2e15"
            ],
            "layout": "IPY_MODEL_b0c1a235ab8744e4a3ca4936ef3e66e9"
          }
        },
        "c070edefef87460faba44dba6cee827f": {
          "model_module": "@jupyter-widgets/controls",
          "model_name": "HTMLModel",
          "model_module_version": "1.5.0",
          "state": {
            "_dom_classes": [],
            "_model_module": "@jupyter-widgets/controls",
            "_model_module_version": "1.5.0",
            "_model_name": "HTMLModel",
            "_view_count": null,
            "_view_module": "@jupyter-widgets/controls",
            "_view_module_version": "1.5.0",
            "_view_name": "HTMLView",
            "description": "",
            "description_tooltip": null,
            "layout": "IPY_MODEL_0eb1333ecaaf433fbd640b3ba7ba0af8",
            "placeholder": "​",
            "style": "IPY_MODEL_40f5b7c30b244882a76874432205dad3",
            "value": "100%"
          }
        },
        "460c049d8c04442a9057a2737399e976": {
          "model_module": "@jupyter-widgets/controls",
          "model_name": "FloatProgressModel",
          "model_module_version": "1.5.0",
          "state": {
            "_dom_classes": [],
            "_model_module": "@jupyter-widgets/controls",
            "_model_module_version": "1.5.0",
            "_model_name": "FloatProgressModel",
            "_view_count": null,
            "_view_module": "@jupyter-widgets/controls",
            "_view_module_version": "1.5.0",
            "_view_name": "ProgressView",
            "bar_style": "success",
            "description": "",
            "description_tooltip": null,
            "layout": "IPY_MODEL_7272da934a93490882132c97f88235fc",
            "max": 30,
            "min": 0,
            "orientation": "horizontal",
            "style": "IPY_MODEL_a61581d7e24d4e3482f750cd24e26a99",
            "value": 30
          }
        },
        "d9e4dbeb01a54d43bff403107e7f2e15": {
          "model_module": "@jupyter-widgets/controls",
          "model_name": "HTMLModel",
          "model_module_version": "1.5.0",
          "state": {
            "_dom_classes": [],
            "_model_module": "@jupyter-widgets/controls",
            "_model_module_version": "1.5.0",
            "_model_name": "HTMLModel",
            "_view_count": null,
            "_view_module": "@jupyter-widgets/controls",
            "_view_module_version": "1.5.0",
            "_view_name": "HTMLView",
            "description": "",
            "description_tooltip": null,
            "layout": "IPY_MODEL_03ae515c74b54e1593f26d0d99cda5a8",
            "placeholder": "​",
            "style": "IPY_MODEL_e295b574280947c68afdd495a18fb717",
            "value": " 30/30 [00:31&lt;00:00,  1.00s/it]"
          }
        },
        "b0c1a235ab8744e4a3ca4936ef3e66e9": {
          "model_module": "@jupyter-widgets/base",
          "model_name": "LayoutModel",
          "model_module_version": "1.2.0",
          "state": {
            "_model_module": "@jupyter-widgets/base",
            "_model_module_version": "1.2.0",
            "_model_name": "LayoutModel",
            "_view_count": null,
            "_view_module": "@jupyter-widgets/base",
            "_view_module_version": "1.2.0",
            "_view_name": "LayoutView",
            "align_content": null,
            "align_items": null,
            "align_self": null,
            "border": null,
            "bottom": null,
            "display": null,
            "flex": null,
            "flex_flow": null,
            "grid_area": null,
            "grid_auto_columns": null,
            "grid_auto_flow": null,
            "grid_auto_rows": null,
            "grid_column": null,
            "grid_gap": null,
            "grid_row": null,
            "grid_template_areas": null,
            "grid_template_columns": null,
            "grid_template_rows": null,
            "height": null,
            "justify_content": null,
            "justify_items": null,
            "left": null,
            "margin": null,
            "max_height": null,
            "max_width": null,
            "min_height": null,
            "min_width": null,
            "object_fit": null,
            "object_position": null,
            "order": null,
            "overflow": null,
            "overflow_x": null,
            "overflow_y": null,
            "padding": null,
            "right": null,
            "top": null,
            "visibility": null,
            "width": null
          }
        },
        "0eb1333ecaaf433fbd640b3ba7ba0af8": {
          "model_module": "@jupyter-widgets/base",
          "model_name": "LayoutModel",
          "model_module_version": "1.2.0",
          "state": {
            "_model_module": "@jupyter-widgets/base",
            "_model_module_version": "1.2.0",
            "_model_name": "LayoutModel",
            "_view_count": null,
            "_view_module": "@jupyter-widgets/base",
            "_view_module_version": "1.2.0",
            "_view_name": "LayoutView",
            "align_content": null,
            "align_items": null,
            "align_self": null,
            "border": null,
            "bottom": null,
            "display": null,
            "flex": null,
            "flex_flow": null,
            "grid_area": null,
            "grid_auto_columns": null,
            "grid_auto_flow": null,
            "grid_auto_rows": null,
            "grid_column": null,
            "grid_gap": null,
            "grid_row": null,
            "grid_template_areas": null,
            "grid_template_columns": null,
            "grid_template_rows": null,
            "height": null,
            "justify_content": null,
            "justify_items": null,
            "left": null,
            "margin": null,
            "max_height": null,
            "max_width": null,
            "min_height": null,
            "min_width": null,
            "object_fit": null,
            "object_position": null,
            "order": null,
            "overflow": null,
            "overflow_x": null,
            "overflow_y": null,
            "padding": null,
            "right": null,
            "top": null,
            "visibility": null,
            "width": null
          }
        },
        "40f5b7c30b244882a76874432205dad3": {
          "model_module": "@jupyter-widgets/controls",
          "model_name": "DescriptionStyleModel",
          "model_module_version": "1.5.0",
          "state": {
            "_model_module": "@jupyter-widgets/controls",
            "_model_module_version": "1.5.0",
            "_model_name": "DescriptionStyleModel",
            "_view_count": null,
            "_view_module": "@jupyter-widgets/base",
            "_view_module_version": "1.2.0",
            "_view_name": "StyleView",
            "description_width": ""
          }
        },
        "7272da934a93490882132c97f88235fc": {
          "model_module": "@jupyter-widgets/base",
          "model_name": "LayoutModel",
          "model_module_version": "1.2.0",
          "state": {
            "_model_module": "@jupyter-widgets/base",
            "_model_module_version": "1.2.0",
            "_model_name": "LayoutModel",
            "_view_count": null,
            "_view_module": "@jupyter-widgets/base",
            "_view_module_version": "1.2.0",
            "_view_name": "LayoutView",
            "align_content": null,
            "align_items": null,
            "align_self": null,
            "border": null,
            "bottom": null,
            "display": null,
            "flex": null,
            "flex_flow": null,
            "grid_area": null,
            "grid_auto_columns": null,
            "grid_auto_flow": null,
            "grid_auto_rows": null,
            "grid_column": null,
            "grid_gap": null,
            "grid_row": null,
            "grid_template_areas": null,
            "grid_template_columns": null,
            "grid_template_rows": null,
            "height": null,
            "justify_content": null,
            "justify_items": null,
            "left": null,
            "margin": null,
            "max_height": null,
            "max_width": null,
            "min_height": null,
            "min_width": null,
            "object_fit": null,
            "object_position": null,
            "order": null,
            "overflow": null,
            "overflow_x": null,
            "overflow_y": null,
            "padding": null,
            "right": null,
            "top": null,
            "visibility": null,
            "width": null
          }
        },
        "a61581d7e24d4e3482f750cd24e26a99": {
          "model_module": "@jupyter-widgets/controls",
          "model_name": "ProgressStyleModel",
          "model_module_version": "1.5.0",
          "state": {
            "_model_module": "@jupyter-widgets/controls",
            "_model_module_version": "1.5.0",
            "_model_name": "ProgressStyleModel",
            "_view_count": null,
            "_view_module": "@jupyter-widgets/base",
            "_view_module_version": "1.2.0",
            "_view_name": "StyleView",
            "bar_color": null,
            "description_width": ""
          }
        },
        "03ae515c74b54e1593f26d0d99cda5a8": {
          "model_module": "@jupyter-widgets/base",
          "model_name": "LayoutModel",
          "model_module_version": "1.2.0",
          "state": {
            "_model_module": "@jupyter-widgets/base",
            "_model_module_version": "1.2.0",
            "_model_name": "LayoutModel",
            "_view_count": null,
            "_view_module": "@jupyter-widgets/base",
            "_view_module_version": "1.2.0",
            "_view_name": "LayoutView",
            "align_content": null,
            "align_items": null,
            "align_self": null,
            "border": null,
            "bottom": null,
            "display": null,
            "flex": null,
            "flex_flow": null,
            "grid_area": null,
            "grid_auto_columns": null,
            "grid_auto_flow": null,
            "grid_auto_rows": null,
            "grid_column": null,
            "grid_gap": null,
            "grid_row": null,
            "grid_template_areas": null,
            "grid_template_columns": null,
            "grid_template_rows": null,
            "height": null,
            "justify_content": null,
            "justify_items": null,
            "left": null,
            "margin": null,
            "max_height": null,
            "max_width": null,
            "min_height": null,
            "min_width": null,
            "object_fit": null,
            "object_position": null,
            "order": null,
            "overflow": null,
            "overflow_x": null,
            "overflow_y": null,
            "padding": null,
            "right": null,
            "top": null,
            "visibility": null,
            "width": null
          }
        },
        "e295b574280947c68afdd495a18fb717": {
          "model_module": "@jupyter-widgets/controls",
          "model_name": "DescriptionStyleModel",
          "model_module_version": "1.5.0",
          "state": {
            "_model_module": "@jupyter-widgets/controls",
            "_model_module_version": "1.5.0",
            "_model_name": "DescriptionStyleModel",
            "_view_count": null,
            "_view_module": "@jupyter-widgets/base",
            "_view_module_version": "1.2.0",
            "_view_name": "StyleView",
            "description_width": ""
          }
        },
        "761b332dbac74094ba284bfec306f69d": {
          "model_module": "@jupyter-widgets/controls",
          "model_name": "HBoxModel",
          "model_module_version": "1.5.0",
          "state": {
            "_dom_classes": [],
            "_model_module": "@jupyter-widgets/controls",
            "_model_module_version": "1.5.0",
            "_model_name": "HBoxModel",
            "_view_count": null,
            "_view_module": "@jupyter-widgets/controls",
            "_view_module_version": "1.5.0",
            "_view_name": "HBoxView",
            "box_style": "",
            "children": [
              "IPY_MODEL_b2f6a1d1034d48d9b8541d539a280522",
              "IPY_MODEL_22b5deedbba744d5af94599da3366880",
              "IPY_MODEL_91285234861940f7b935e4b035087ab7"
            ],
            "layout": "IPY_MODEL_a37dfead76354f39a9f3351e668aa96c"
          }
        },
        "b2f6a1d1034d48d9b8541d539a280522": {
          "model_module": "@jupyter-widgets/controls",
          "model_name": "HTMLModel",
          "model_module_version": "1.5.0",
          "state": {
            "_dom_classes": [],
            "_model_module": "@jupyter-widgets/controls",
            "_model_module_version": "1.5.0",
            "_model_name": "HTMLModel",
            "_view_count": null,
            "_view_module": "@jupyter-widgets/controls",
            "_view_module_version": "1.5.0",
            "_view_name": "HTMLView",
            "description": "",
            "description_tooltip": null,
            "layout": "IPY_MODEL_2b916a8d6d2342d4ac2ba065dbdb69f7",
            "placeholder": "​",
            "style": "IPY_MODEL_222ac1eca40c4fd38e2432736fd26a7f",
            "value": "100%"
          }
        },
        "22b5deedbba744d5af94599da3366880": {
          "model_module": "@jupyter-widgets/controls",
          "model_name": "FloatProgressModel",
          "model_module_version": "1.5.0",
          "state": {
            "_dom_classes": [],
            "_model_module": "@jupyter-widgets/controls",
            "_model_module_version": "1.5.0",
            "_model_name": "FloatProgressModel",
            "_view_count": null,
            "_view_module": "@jupyter-widgets/controls",
            "_view_module_version": "1.5.0",
            "_view_name": "ProgressView",
            "bar_style": "success",
            "description": "",
            "description_tooltip": null,
            "layout": "IPY_MODEL_8a6ca596860d4770aaa02f01962528b7",
            "max": 30,
            "min": 0,
            "orientation": "horizontal",
            "style": "IPY_MODEL_b9131fee6d3d417f92ed56b0473f4404",
            "value": 30
          }
        },
        "91285234861940f7b935e4b035087ab7": {
          "model_module": "@jupyter-widgets/controls",
          "model_name": "HTMLModel",
          "model_module_version": "1.5.0",
          "state": {
            "_dom_classes": [],
            "_model_module": "@jupyter-widgets/controls",
            "_model_module_version": "1.5.0",
            "_model_name": "HTMLModel",
            "_view_count": null,
            "_view_module": "@jupyter-widgets/controls",
            "_view_module_version": "1.5.0",
            "_view_name": "HTMLView",
            "description": "",
            "description_tooltip": null,
            "layout": "IPY_MODEL_c06813aa04a94125996e70b81255539f",
            "placeholder": "​",
            "style": "IPY_MODEL_1b02d6074f234b7cb258c166ad972dcd",
            "value": " 30/30 [01:56&lt;00:00,  4.24s/it]"
          }
        },
        "a37dfead76354f39a9f3351e668aa96c": {
          "model_module": "@jupyter-widgets/base",
          "model_name": "LayoutModel",
          "model_module_version": "1.2.0",
          "state": {
            "_model_module": "@jupyter-widgets/base",
            "_model_module_version": "1.2.0",
            "_model_name": "LayoutModel",
            "_view_count": null,
            "_view_module": "@jupyter-widgets/base",
            "_view_module_version": "1.2.0",
            "_view_name": "LayoutView",
            "align_content": null,
            "align_items": null,
            "align_self": null,
            "border": null,
            "bottom": null,
            "display": null,
            "flex": null,
            "flex_flow": null,
            "grid_area": null,
            "grid_auto_columns": null,
            "grid_auto_flow": null,
            "grid_auto_rows": null,
            "grid_column": null,
            "grid_gap": null,
            "grid_row": null,
            "grid_template_areas": null,
            "grid_template_columns": null,
            "grid_template_rows": null,
            "height": null,
            "justify_content": null,
            "justify_items": null,
            "left": null,
            "margin": null,
            "max_height": null,
            "max_width": null,
            "min_height": null,
            "min_width": null,
            "object_fit": null,
            "object_position": null,
            "order": null,
            "overflow": null,
            "overflow_x": null,
            "overflow_y": null,
            "padding": null,
            "right": null,
            "top": null,
            "visibility": null,
            "width": null
          }
        },
        "2b916a8d6d2342d4ac2ba065dbdb69f7": {
          "model_module": "@jupyter-widgets/base",
          "model_name": "LayoutModel",
          "model_module_version": "1.2.0",
          "state": {
            "_model_module": "@jupyter-widgets/base",
            "_model_module_version": "1.2.0",
            "_model_name": "LayoutModel",
            "_view_count": null,
            "_view_module": "@jupyter-widgets/base",
            "_view_module_version": "1.2.0",
            "_view_name": "LayoutView",
            "align_content": null,
            "align_items": null,
            "align_self": null,
            "border": null,
            "bottom": null,
            "display": null,
            "flex": null,
            "flex_flow": null,
            "grid_area": null,
            "grid_auto_columns": null,
            "grid_auto_flow": null,
            "grid_auto_rows": null,
            "grid_column": null,
            "grid_gap": null,
            "grid_row": null,
            "grid_template_areas": null,
            "grid_template_columns": null,
            "grid_template_rows": null,
            "height": null,
            "justify_content": null,
            "justify_items": null,
            "left": null,
            "margin": null,
            "max_height": null,
            "max_width": null,
            "min_height": null,
            "min_width": null,
            "object_fit": null,
            "object_position": null,
            "order": null,
            "overflow": null,
            "overflow_x": null,
            "overflow_y": null,
            "padding": null,
            "right": null,
            "top": null,
            "visibility": null,
            "width": null
          }
        },
        "222ac1eca40c4fd38e2432736fd26a7f": {
          "model_module": "@jupyter-widgets/controls",
          "model_name": "DescriptionStyleModel",
          "model_module_version": "1.5.0",
          "state": {
            "_model_module": "@jupyter-widgets/controls",
            "_model_module_version": "1.5.0",
            "_model_name": "DescriptionStyleModel",
            "_view_count": null,
            "_view_module": "@jupyter-widgets/base",
            "_view_module_version": "1.2.0",
            "_view_name": "StyleView",
            "description_width": ""
          }
        },
        "8a6ca596860d4770aaa02f01962528b7": {
          "model_module": "@jupyter-widgets/base",
          "model_name": "LayoutModel",
          "model_module_version": "1.2.0",
          "state": {
            "_model_module": "@jupyter-widgets/base",
            "_model_module_version": "1.2.0",
            "_model_name": "LayoutModel",
            "_view_count": null,
            "_view_module": "@jupyter-widgets/base",
            "_view_module_version": "1.2.0",
            "_view_name": "LayoutView",
            "align_content": null,
            "align_items": null,
            "align_self": null,
            "border": null,
            "bottom": null,
            "display": null,
            "flex": null,
            "flex_flow": null,
            "grid_area": null,
            "grid_auto_columns": null,
            "grid_auto_flow": null,
            "grid_auto_rows": null,
            "grid_column": null,
            "grid_gap": null,
            "grid_row": null,
            "grid_template_areas": null,
            "grid_template_columns": null,
            "grid_template_rows": null,
            "height": null,
            "justify_content": null,
            "justify_items": null,
            "left": null,
            "margin": null,
            "max_height": null,
            "max_width": null,
            "min_height": null,
            "min_width": null,
            "object_fit": null,
            "object_position": null,
            "order": null,
            "overflow": null,
            "overflow_x": null,
            "overflow_y": null,
            "padding": null,
            "right": null,
            "top": null,
            "visibility": null,
            "width": null
          }
        },
        "b9131fee6d3d417f92ed56b0473f4404": {
          "model_module": "@jupyter-widgets/controls",
          "model_name": "ProgressStyleModel",
          "model_module_version": "1.5.0",
          "state": {
            "_model_module": "@jupyter-widgets/controls",
            "_model_module_version": "1.5.0",
            "_model_name": "ProgressStyleModel",
            "_view_count": null,
            "_view_module": "@jupyter-widgets/base",
            "_view_module_version": "1.2.0",
            "_view_name": "StyleView",
            "bar_color": null,
            "description_width": ""
          }
        },
        "c06813aa04a94125996e70b81255539f": {
          "model_module": "@jupyter-widgets/base",
          "model_name": "LayoutModel",
          "model_module_version": "1.2.0",
          "state": {
            "_model_module": "@jupyter-widgets/base",
            "_model_module_version": "1.2.0",
            "_model_name": "LayoutModel",
            "_view_count": null,
            "_view_module": "@jupyter-widgets/base",
            "_view_module_version": "1.2.0",
            "_view_name": "LayoutView",
            "align_content": null,
            "align_items": null,
            "align_self": null,
            "border": null,
            "bottom": null,
            "display": null,
            "flex": null,
            "flex_flow": null,
            "grid_area": null,
            "grid_auto_columns": null,
            "grid_auto_flow": null,
            "grid_auto_rows": null,
            "grid_column": null,
            "grid_gap": null,
            "grid_row": null,
            "grid_template_areas": null,
            "grid_template_columns": null,
            "grid_template_rows": null,
            "height": null,
            "justify_content": null,
            "justify_items": null,
            "left": null,
            "margin": null,
            "max_height": null,
            "max_width": null,
            "min_height": null,
            "min_width": null,
            "object_fit": null,
            "object_position": null,
            "order": null,
            "overflow": null,
            "overflow_x": null,
            "overflow_y": null,
            "padding": null,
            "right": null,
            "top": null,
            "visibility": null,
            "width": null
          }
        },
        "1b02d6074f234b7cb258c166ad972dcd": {
          "model_module": "@jupyter-widgets/controls",
          "model_name": "DescriptionStyleModel",
          "model_module_version": "1.5.0",
          "state": {
            "_model_module": "@jupyter-widgets/controls",
            "_model_module_version": "1.5.0",
            "_model_name": "DescriptionStyleModel",
            "_view_count": null,
            "_view_module": "@jupyter-widgets/base",
            "_view_module_version": "1.2.0",
            "_view_name": "StyleView",
            "description_width": ""
          }
        }
      }
    },
    "accelerator": "GPU"
  },
  "cells": [
    {
      "cell_type": "markdown",
      "source": [
        "# Experiment Tracking with PyTorch\n",
        "This notebook demonstrates how to track experiments in PyTorch using TensorBoard. Two models were trained to classify food images:\n",
        "\n",
        "- Training a model from scratch (TinyVGG).\n",
        "- Using transfer learning with a pre-trained model (EfficientNet_B0)."
      ],
      "metadata": {
        "id": "pwSK7jNNApXg"
      }
    },
    {
      "cell_type": "markdown",
      "source": [
        "## Project Imports"
      ],
      "metadata": {
        "id": "C4bVbI8x3BH9"
      }
    },
    {
      "cell_type": "code",
      "execution_count": null,
      "metadata": {
        "colab": {
          "base_uri": "https://localhost:8080/"
        },
        "id": "gFr0l6-LbJTv",
        "outputId": "f0a5efcf-331a-4688-809b-0b60ac50ef2d"
      },
      "outputs": [
        {
          "output_type": "execute_result",
          "data": {
            "text/plain": [
              "('2.3.0+cu121', '0.18.0+cu121')"
            ]
          },
          "metadata": {},
          "execution_count": 1
        }
      ],
      "source": [
        "import torch\n",
        "import torchvision\n",
        "\n",
        "torch.__version__, torchvision.__version__"
      ]
    },
    {
      "cell_type": "code",
      "source": [
        "import matplotlib.pyplot as plt\n",
        "import torch\n",
        "import torchvision\n",
        "from torch.utils.tensorboard import SummaryWriter\n",
        "\n",
        "from torch import nn\n",
        "from torchvision import transforms\n",
        "\n",
        "# Try to get torchinfo, install it if it doesn't work\n",
        "try:\n",
        "    from torchinfo import summary\n",
        "except:\n",
        "    print(\"[INFO] Couldn't find torchinfo... installing it.\")\n",
        "    !pip install -q torchinfo\n",
        "    from torchinfo import summary\n",
        "\n",
        "# Try to import modules made for code reuse\n",
        "try:\n",
        "    from modules import data_setup, engine\n",
        "except:\n",
        "    # Get the scripts\n",
        "    print(\"[INFO] Couldn't find modules scripts... downloading them from GitHub.\")\n",
        "    !git clone https://github.com/mlgomez0/deep_learning_projects\n",
        "    !mv deep_learning_projects/modules .\n",
        "    !rm -rf deep_learning_projects\n",
        "    from modules import data_setup, engine"
      ],
      "metadata": {
        "colab": {
          "base_uri": "https://localhost:8080/"
        },
        "id": "OYsZTc4J0cy7",
        "outputId": "1bfebc8b-0a06-43dd-f05d-d391eea66117"
      },
      "execution_count": null,
      "outputs": [
        {
          "output_type": "stream",
          "name": "stdout",
          "text": [
            "[INFO] Couldn't find torchinfo... installing it.\n",
            "[INFO] Couldn't find modules scripts... downloading them from GitHub.\n",
            "Cloning into 'deep_learning_projects'...\n",
            "remote: Enumerating objects: 24, done.\u001b[K\n",
            "remote: Counting objects: 100% (24/24), done.\u001b[K\n",
            "remote: Compressing objects: 100% (19/19), done.\u001b[K\n",
            "remote: Total 24 (delta 7), reused 17 (delta 3), pack-reused 0\u001b[K\n",
            "Receiving objects: 100% (24/24), 15.01 MiB | 6.73 MiB/s, done.\n",
            "Resolving deltas: 100% (7/7), done.\n"
          ]
        }
      ]
    },
    {
      "cell_type": "code",
      "source": [
        "from modules.engine import train # Visit https://github.com/mlgomez0/deep_learning_projects/blob/main/modules/engine.py to review the code for training the models"
      ],
      "metadata": {
        "id": "DILJcuAZ0l8M"
      },
      "execution_count": null,
      "outputs": []
    },
    {
      "cell_type": "markdown",
      "source": [
        "## Device Agnostic Code and function for manual_seed"
      ],
      "metadata": {
        "id": "HeIN4LPmAAoo"
      }
    },
    {
      "cell_type": "code",
      "source": [
        "device = 'cuda' if torch.cuda.is_available() else 'cpu' # setting up device agnostic code"
      ],
      "metadata": {
        "id": "ImUIFRrK0-Cf"
      },
      "execution_count": null,
      "outputs": []
    },
    {
      "cell_type": "code",
      "source": [
        "def set_seed(seed:int=42):\n",
        "  \"\"\"Sets random sets for torch operations.\n",
        "\n",
        "  Args:\n",
        "    seed (int, optional): The desired seed value. Defaults to 42.\n",
        "  \"\"\"\n",
        "  torch.cuda.manual_seed(seed)\n",
        "  torch.manual_seed(seed)"
      ],
      "metadata": {
        "id": "jJnGe12e0-Af"
      },
      "execution_count": null,
      "outputs": []
    },
    {
      "cell_type": "markdown",
      "source": [
        "## Downloading the data"
      ],
      "metadata": {
        "id": "4mj9FIsNANl2"
      }
    },
    {
      "cell_type": "code",
      "source": [
        "import os\n",
        "from pathlib import Path\n",
        "import zipfile\n",
        "import requests\n",
        "\n",
        "def download_data(source: str,\n",
        "                  destination: str,\n",
        "                  remove_source: bool = True):\n",
        "  \"\"\"Downloads a file from a url and then extracts it locally.\n",
        "  \"\"\"\n",
        "  print(f\"[INFO] Downloading {source}...\")\n",
        "\n",
        "  data_path = Path(\"data/\")\n",
        "  image_path = data_path / destination\n",
        "\n",
        "  if image_path.is_dir():\n",
        "    print(\"Dir is already created\")\n",
        "  else:\n",
        "    image_path.mkdir(parents=True, exist_ok=True)\n",
        "    target_file = Path(source).name\n",
        "    with open(data_path / target_file, 'wb') as f:\n",
        "      request = requests.get(source)\n",
        "      print(f\"[FILE] Downloading {target_file} from source\")\n",
        "      f.write(request.content)\n",
        "    with zipfile.ZipFile(data_path / target_file, 'r') as zip_ref:\n",
        "      zip_ref.extractall(image_path)\n",
        "    if remove_source:\n",
        "      os.remove(data_path / target_file)\n",
        "\n",
        "  return image_path\n"
      ],
      "metadata": {
        "id": "wDlPMPL2097P"
      },
      "execution_count": null,
      "outputs": []
    },
    {
      "cell_type": "code",
      "source": [
        "image_path = download_data(\n",
        "    source=\"https://github.com/mlgomez0/deep_learning_projects/raw/main/datasets/pizza_steak_sushi.zip\", # Dowloading samples data\n",
        "    destination=\"pizza_steak_sushi\"\n",
        ")"
      ],
      "metadata": {
        "colab": {
          "base_uri": "https://localhost:8080/"
        },
        "id": "QJhXdtmP0947",
        "outputId": "68c00eca-33a1-4c9b-9508-2043178d332a"
      },
      "execution_count": null,
      "outputs": [
        {
          "output_type": "stream",
          "name": "stdout",
          "text": [
            "[INFO] Downloading https://github.com/mlgomez0/deep_learning_projects/raw/main/datasets/pizza_steak_sushi.zip...\n",
            "[FILE] Downloading pizza_steak_sushi.zip from source\n"
          ]
        }
      ]
    },
    {
      "cell_type": "code",
      "source": [
        "train_dir = image_path / \"train\"\n",
        "test_dir = image_path / \"test\"\n",
        "train_dir, test_dir"
      ],
      "metadata": {
        "id": "8MMOHjUA09xt",
        "colab": {
          "base_uri": "https://localhost:8080/"
        },
        "outputId": "2b663333-8224-481c-d5ee-f4c0cadcbed1"
      },
      "execution_count": null,
      "outputs": [
        {
          "output_type": "execute_result",
          "data": {
            "text/plain": [
              "(PosixPath('data/pizza_steak_sushi/train'),\n",
              " PosixPath('data/pizza_steak_sushi/test'))"
            ]
          },
          "metadata": {},
          "execution_count": 8
        }
      ]
    },
    {
      "cell_type": "markdown",
      "source": [
        "## Customizing writers for Tensorboard"
      ],
      "metadata": {
        "id": "O0HXEi9URzHx"
      }
    },
    {
      "cell_type": "code",
      "source": [
        "from datetime import datetime\n",
        "\n",
        "def create_writer(experiment_name:str,\n",
        "                  model_name:str,\n",
        "                  extra:str=None):\n",
        "\n",
        "  timestamp = datetime.now().strftime(\"%y-%m-%d\")\n",
        "  if extra:\n",
        "    log_dir = os.path.join(\"runs\", timestamp, experiment_name, model_name, extra)\n",
        "  else:\n",
        "    log_dir = os.path.join(\"runs\", timestamp, experiment_name, model_name)\n",
        "\n",
        "  return SummaryWriter(log_dir=log_dir)"
      ],
      "metadata": {
        "id": "Yeq3VHecR4ZV"
      },
      "execution_count": null,
      "outputs": []
    },
    {
      "cell_type": "markdown",
      "source": [
        "## TinyVGG"
      ],
      "metadata": {
        "id": "eE5lsNEkPcga"
      }
    },
    {
      "cell_type": "markdown",
      "source": [
        "### Transforming data to be used in TinyVGG"
      ],
      "metadata": {
        "id": "86s3HlKEONSx"
      }
    },
    {
      "cell_type": "code",
      "source": [
        "tiny_vgg_transform = transforms.Compose([\n",
        "    transforms.Resize((64, 64)),\n",
        "    transforms.ToTensor()\n",
        "])"
      ],
      "metadata": {
        "id": "-G3NwB1MOV2w"
      },
      "execution_count": null,
      "outputs": []
    },
    {
      "cell_type": "code",
      "source": [
        "train_dataloader_tiny_vgg, test_dataloader_tiny_vgg, class_names = data_setup.create_dataloaders(\n",
        "  train_dir=train_dir,\n",
        "  test_dir=test_dir,\n",
        "  transform=tiny_vgg_transform,\n",
        "  batch_size=32\n",
        ")"
      ],
      "metadata": {
        "id": "wjA7_4D7PT9j"
      },
      "execution_count": null,
      "outputs": []
    },
    {
      "cell_type": "markdown",
      "source": [
        "### TinyVGG model"
      ],
      "metadata": {
        "id": "dXNpVlR2QHPH"
      }
    },
    {
      "cell_type": "code",
      "source": [
        "# Implementation of TinyVGG model architecture https://poloclub.github.io/cnn-explainer/\n",
        "class TinyVGG(nn.Module):\n",
        "  def __init__(self, input_shape:int,\n",
        "               hidden_units:int,\n",
        "               output_shape:int) -> None:\n",
        "    super().__init__()\n",
        "\n",
        "    self.conv_block_1 = nn.Sequential(\n",
        "        nn.Conv2d(in_channels=input_shape,\n",
        "                  out_channels=hidden_units,\n",
        "                  kernel_size=3,\n",
        "                  stride=1,\n",
        "                  padding=1\n",
        "                  ),\n",
        "        nn.ReLU(),\n",
        "        nn.Conv2d(in_channels=hidden_units,\n",
        "                  out_channels=hidden_units,\n",
        "                  kernel_size=3,\n",
        "                  stride=1,\n",
        "                  padding=1),\n",
        "        nn.ReLU(),\n",
        "        nn.MaxPool2d(kernel_size=2,\n",
        "                     stride=2)\n",
        "    )\n",
        "    self.conv_block_2 = nn.Sequential(\n",
        "        nn.Conv2d(\n",
        "            in_channels=hidden_units,\n",
        "            out_channels=hidden_units,\n",
        "            kernel_size=3,\n",
        "            padding=1\n",
        "\n",
        "        ),\n",
        "        nn.ReLU(),\n",
        "        nn.Conv2d(\n",
        "            in_channels=hidden_units,\n",
        "            out_channels=hidden_units,\n",
        "            kernel_size=3,\n",
        "            padding=1\n",
        "        ),\n",
        "        nn.ReLU(),\n",
        "        nn.MaxPool2d(\n",
        "            kernel_size=2,\n",
        "        )\n",
        "    )\n",
        "    self.classifier = nn.Sequential(\n",
        "        nn.Flatten(),\n",
        "        nn.Linear(\n",
        "            in_features=hidden_units * 16 * 16,\n",
        "            out_features=output_shape\n",
        "        )\n",
        "    )\n",
        "  def forward(self, x):\n",
        "    x = self.conv_block_1(x)\n",
        "    x = self.conv_block_2(x)\n",
        "    x = self.classifier(x)\n",
        "    return x"
      ],
      "metadata": {
        "id": "8S2gil27Pyyn"
      },
      "execution_count": null,
      "outputs": []
    },
    {
      "cell_type": "code",
      "source": [
        "model_0 = TinyVGG(\n",
        "    input_shape=3,\n",
        "    hidden_units=10,\n",
        "    output_shape=len(class_names)).to(device)\n",
        "model_0"
      ],
      "metadata": {
        "colab": {
          "base_uri": "https://localhost:8080/"
        },
        "id": "GxBOSBTCQhHq",
        "outputId": "e705f4c3-6769-4513-f114-d0db3d324980"
      },
      "execution_count": null,
      "outputs": [
        {
          "output_type": "execute_result",
          "data": {
            "text/plain": [
              "TinyVGG(\n",
              "  (conv_block_1): Sequential(\n",
              "    (0): Conv2d(3, 10, kernel_size=(3, 3), stride=(1, 1), padding=(1, 1))\n",
              "    (1): ReLU()\n",
              "    (2): Conv2d(10, 10, kernel_size=(3, 3), stride=(1, 1), padding=(1, 1))\n",
              "    (3): ReLU()\n",
              "    (4): MaxPool2d(kernel_size=2, stride=2, padding=0, dilation=1, ceil_mode=False)\n",
              "  )\n",
              "  (conv_block_2): Sequential(\n",
              "    (0): Conv2d(10, 10, kernel_size=(3, 3), stride=(1, 1), padding=(1, 1))\n",
              "    (1): ReLU()\n",
              "    (2): Conv2d(10, 10, kernel_size=(3, 3), stride=(1, 1), padding=(1, 1))\n",
              "    (3): ReLU()\n",
              "    (4): MaxPool2d(kernel_size=2, stride=2, padding=0, dilation=1, ceil_mode=False)\n",
              "  )\n",
              "  (classifier): Sequential(\n",
              "    (0): Flatten(start_dim=1, end_dim=-1)\n",
              "    (1): Linear(in_features=2560, out_features=3, bias=True)\n",
              "  )\n",
              ")"
            ]
          },
          "metadata": {},
          "execution_count": 13
        }
      ]
    },
    {
      "cell_type": "markdown",
      "source": [
        "### Training TinyVGG"
      ],
      "metadata": {
        "id": "yqf5Y1nmQ8k5"
      }
    },
    {
      "cell_type": "code",
      "source": [
        "writer_tiny_vgg = create_writer(\n",
        "    experiment_name='tiny_vgg_model',\n",
        "    model_name=\"model_0\",\n",
        "    extra=\"10_epochs\"\n",
        ") # this writer will allow us to log data for later visualization using tensorboard\n",
        "writer_tiny_vgg"
      ],
      "metadata": {
        "colab": {
          "base_uri": "https://localhost:8080/"
        },
        "id": "AS1DE1fER-v2",
        "outputId": "263fa917-aa2c-484d-db8a-731acc4a828c"
      },
      "execution_count": null,
      "outputs": [
        {
          "output_type": "execute_result",
          "data": {
            "text/plain": [
              "<torch.utils.tensorboard.writer.SummaryWriter at 0x79d38e432a40>"
            ]
          },
          "metadata": {},
          "execution_count": 14
        }
      ]
    },
    {
      "cell_type": "code",
      "source": [
        "# loss function and optimizer\n",
        "loss_fn = nn.CrossEntropyLoss()\n",
        "optimizer = torch.optim.Adam(params=model_0.parameters(), lr=0.01)"
      ],
      "metadata": {
        "id": "_exV5gP9Qpfv"
      },
      "execution_count": null,
      "outputs": []
    },
    {
      "cell_type": "code",
      "source": [
        "#from modules.engine import train\n",
        "\n",
        "set_seed()\n",
        "example_input = torch.randn(32, 3, 64, 64).to(device)\n",
        "\n",
        "results = train(\n",
        "    model=model_0,\n",
        "    train_dataloader=train_dataloader_tiny_vgg,\n",
        "    test_dataloader=test_dataloader_tiny_vgg,\n",
        "    optimizer=optimizer,\n",
        "    loss_fn=loss_fn,\n",
        "    epochs=30,\n",
        "    device=device,\n",
        "    writer=writer_tiny_vgg,\n",
        "    example_input=example_input\n",
        ")\n"
      ],
      "metadata": {
        "colab": {
          "base_uri": "https://localhost:8080/",
          "height": 659,
          "referenced_widgets": [
            "4316cdbef17a410a8c8b299ce5f39921",
            "c070edefef87460faba44dba6cee827f",
            "460c049d8c04442a9057a2737399e976",
            "d9e4dbeb01a54d43bff403107e7f2e15",
            "b0c1a235ab8744e4a3ca4936ef3e66e9",
            "0eb1333ecaaf433fbd640b3ba7ba0af8",
            "40f5b7c30b244882a76874432205dad3",
            "7272da934a93490882132c97f88235fc",
            "a61581d7e24d4e3482f750cd24e26a99",
            "03ae515c74b54e1593f26d0d99cda5a8",
            "e295b574280947c68afdd495a18fb717"
          ]
        },
        "id": "Dl3QvGX_RF80",
        "outputId": "f2e770d2-c2c1-4299-aee0-6bb870cd96d1"
      },
      "execution_count": null,
      "outputs": [
        {
          "output_type": "display_data",
          "data": {
            "text/plain": [
              "  0%|          | 0/30 [00:00<?, ?it/s]"
            ],
            "application/vnd.jupyter.widget-view+json": {
              "version_major": 2,
              "version_minor": 0,
              "model_id": "4316cdbef17a410a8c8b299ce5f39921"
            }
          },
          "metadata": {}
        },
        {
          "output_type": "stream",
          "name": "stderr",
          "text": [
            "/usr/lib/python3.10/multiprocessing/popen_fork.py:66: RuntimeWarning: os.fork() was called. os.fork() is incompatible with multithreaded code, and JAX is multithreaded, so this will likely lead to a deadlock.\n",
            "  self.pid = os.fork()\n",
            "/usr/local/lib/python3.10/dist-packages/torch/nn/modules/conv.py:456: UserWarning: Plan failed with a cudnnException: CUDNN_BACKEND_EXECUTION_PLAN_DESCRIPTOR: cudnnFinalize Descriptor Failed cudnn_status: CUDNN_STATUS_NOT_SUPPORTED (Triggered internally at ../aten/src/ATen/native/cudnn/Conv_v8.cpp:919.)\n",
            "  return F.conv2d(input, weight, bias, self.stride,\n"
          ]
        },
        {
          "output_type": "stream",
          "name": "stdout",
          "text": [
            "Epoch: 1 | train_loss: 1.1893 | train_acc: 0.2969 | test_loss: 1.2745 | test_acc: 0.1979\n",
            "Epoch: 2 | train_loss: 1.2129 | train_acc: 0.2695 | test_loss: 1.1101 | test_acc: 0.2604\n",
            "Epoch: 3 | train_loss: 1.0994 | train_acc: 0.3047 | test_loss: 1.1132 | test_acc: 0.2604\n",
            "Epoch: 4 | train_loss: 1.0931 | train_acc: 0.4258 | test_loss: 1.1190 | test_acc: 0.2604\n",
            "Epoch: 5 | train_loss: 1.0963 | train_acc: 0.3047 | test_loss: 1.1246 | test_acc: 0.2604\n",
            "Epoch: 6 | train_loss: 1.0921 | train_acc: 0.4258 | test_loss: 1.1302 | test_acc: 0.2604\n",
            "Epoch: 7 | train_loss: 1.0909 | train_acc: 0.4258 | test_loss: 1.1346 | test_acc: 0.2604\n",
            "Epoch: 8 | train_loss: 1.0884 | train_acc: 0.4258 | test_loss: 1.1372 | test_acc: 0.2604\n",
            "Epoch: 9 | train_loss: 1.0992 | train_acc: 0.3047 | test_loss: 1.1391 | test_acc: 0.2604\n",
            "Epoch: 10 | train_loss: 1.0874 | train_acc: 0.4258 | test_loss: 1.1417 | test_acc: 0.2604\n",
            "Epoch: 11 | train_loss: 1.1174 | train_acc: 0.3047 | test_loss: 1.1416 | test_acc: 0.2604\n",
            "Epoch: 12 | train_loss: 1.1001 | train_acc: 0.3047 | test_loss: 1.1331 | test_acc: 0.2604\n",
            "Epoch: 13 | train_loss: 1.0887 | train_acc: 0.4258 | test_loss: 1.1311 | test_acc: 0.2604\n",
            "Epoch: 14 | train_loss: 1.1120 | train_acc: 0.3047 | test_loss: 1.1295 | test_acc: 0.2604\n",
            "Epoch: 15 | train_loss: 1.1084 | train_acc: 0.3047 | test_loss: 1.1208 | test_acc: 0.2604\n",
            "Epoch: 16 | train_loss: 1.0914 | train_acc: 0.4258 | test_loss: 1.1094 | test_acc: 0.2604\n",
            "Epoch: 17 | train_loss: 1.0900 | train_acc: 0.4258 | test_loss: 1.1080 | test_acc: 0.2604\n",
            "Epoch: 18 | train_loss: 1.1047 | train_acc: 0.3047 | test_loss: 1.1106 | test_acc: 0.2604\n",
            "Epoch: 19 | train_loss: 1.1025 | train_acc: 0.3047 | test_loss: 1.1151 | test_acc: 0.2604\n",
            "Epoch: 20 | train_loss: 1.0986 | train_acc: 0.3047 | test_loss: 1.1213 | test_acc: 0.2604\n",
            "Epoch: 21 | train_loss: 1.1098 | train_acc: 0.3047 | test_loss: 1.1263 | test_acc: 0.2604\n",
            "Epoch: 22 | train_loss: 1.1069 | train_acc: 0.3125 | test_loss: 1.1188 | test_acc: 0.1979\n",
            "Epoch: 23 | train_loss: 1.0974 | train_acc: 0.4141 | test_loss: 1.1083 | test_acc: 0.1979\n",
            "Epoch: 24 | train_loss: 1.0990 | train_acc: 0.2930 | test_loss: 1.1094 | test_acc: 0.1979\n",
            "Epoch: 25 | train_loss: 1.0958 | train_acc: 0.4141 | test_loss: 1.1133 | test_acc: 0.1979\n",
            "Epoch: 26 | train_loss: 1.1054 | train_acc: 0.2930 | test_loss: 1.1166 | test_acc: 0.1979\n",
            "Epoch: 27 | train_loss: 1.0946 | train_acc: 0.4141 | test_loss: 1.1121 | test_acc: 0.1979\n",
            "Epoch: 28 | train_loss: 1.1037 | train_acc: 0.2930 | test_loss: 1.1127 | test_acc: 0.1979\n",
            "Epoch: 29 | train_loss: 1.1013 | train_acc: 0.2930 | test_loss: 1.1088 | test_acc: 0.1979\n",
            "Epoch: 30 | train_loss: 1.1018 | train_acc: 0.2930 | test_loss: 1.1064 | test_acc: 0.1979\n"
          ]
        }
      ]
    },
    {
      "cell_type": "markdown",
      "source": [
        "## EfficientNet_B0: Transfer Learning"
      ],
      "metadata": {
        "id": "ZL0jJv43p3aZ"
      }
    },
    {
      "cell_type": "markdown",
      "source": [
        "### Transforming the data to be used with EfficientNet_B0 model"
      ],
      "metadata": {
        "id": "VpxUdQb1AYfT"
      }
    },
    {
      "cell_type": "code",
      "source": [
        "# Creating a transformer to tranform the data to be used in EfficientNet_B0 model\n",
        "\n",
        "normalize = transforms.Normalize(mean=[0.485, 0.456, 0.406],\n",
        "                                 std=[0.229, 0.224, 0.225])\n",
        "\n",
        "transform_EffNetB0 = transforms.Compose([\n",
        "    transforms.Resize((224, 224)),\n",
        "    transforms.ToTensor(),\n",
        "    normalize\n",
        "])"
      ],
      "metadata": {
        "id": "yqHArf0Z09tB"
      },
      "execution_count": null,
      "outputs": []
    },
    {
      "cell_type": "code",
      "source": [
        "train_dataloader, test_dataloader, class_names = data_setup.create_dataloaders(\n",
        "  train_dir=train_dir,\n",
        "  test_dir=test_dir,\n",
        "  transform=transform_EffNetB0,\n",
        "  batch_size=32\n",
        ")"
      ],
      "metadata": {
        "id": "xVFuIC4_unqV"
      },
      "execution_count": null,
      "outputs": []
    },
    {
      "cell_type": "markdown",
      "source": [
        "### Downloading model"
      ],
      "metadata": {
        "id": "wX9FVXm5AkeA"
      }
    },
    {
      "cell_type": "code",
      "source": [
        "# Dowloading EfficientNet_B0 from torchvision\n",
        "# https://pytorch.org/vision/main/models/generated/torchvision.models.efficientnet_b0.html\n",
        "\n",
        "weights = torchvision.models.EfficientNet_B0_Weights.DEFAULT # Best available\n",
        "model = torchvision.models.efficientnet_b0(weights=weights).to(device)\n"
      ],
      "metadata": {
        "id": "ND02cRpfunky",
        "colab": {
          "base_uri": "https://localhost:8080/"
        },
        "outputId": "3c103ef9-9603-46f3-8cf7-a05d354ec829"
      },
      "execution_count": null,
      "outputs": [
        {
          "output_type": "stream",
          "name": "stderr",
          "text": [
            "Downloading: \"https://download.pytorch.org/models/efficientnet_b0_rwightman-7f5810bc.pth\" to /root/.cache/torch/hub/checkpoints/efficientnet_b0_rwightman-7f5810bc.pth\n",
            "100%|██████████| 20.5M/20.5M [00:00<00:00, 138MB/s]\n"
          ]
        }
      ]
    },
    {
      "cell_type": "code",
      "source": [
        "model.classifier # This section will be retrained using new data"
      ],
      "metadata": {
        "colab": {
          "base_uri": "https://localhost:8080/"
        },
        "id": "mPI29mfDjIct",
        "outputId": "45383818-e035-44d3-f477-ba5a133aab73"
      },
      "execution_count": null,
      "outputs": [
        {
          "output_type": "execute_result",
          "data": {
            "text/plain": [
              "Sequential(\n",
              "  (0): Dropout(p=0.2, inplace=True)\n",
              "  (1): Linear(in_features=1280, out_features=1000, bias=True)\n",
              ")"
            ]
          },
          "metadata": {},
          "execution_count": 20
        }
      ]
    },
    {
      "cell_type": "code",
      "source": [
        "for param in model.features.parameters(): # This piece of code freeze the model parameters so they don't get retrained\n",
        "  param.requires_grad = False"
      ],
      "metadata": {
        "id": "Me5OfzvYh36a"
      },
      "execution_count": null,
      "outputs": []
    },
    {
      "cell_type": "code",
      "source": [
        "set_seed()\n",
        "model.classifier = nn.Sequential(\n",
        "    nn.Dropout(p=0.2, inplace=True),\n",
        "    nn.Linear(in_features=1280, out_features=len(class_names))\n",
        ").to(device) # Here we redefine the classifier of the model moving from 1000 classes to only 3 classes (classes in our dummy dataset)\n",
        "model.classifier"
      ],
      "metadata": {
        "colab": {
          "base_uri": "https://localhost:8080/"
        },
        "id": "OM0_iVMrh31C",
        "outputId": "23162828-0081-4c7b-f5c3-4b5f28499609"
      },
      "execution_count": null,
      "outputs": [
        {
          "output_type": "execute_result",
          "data": {
            "text/plain": [
              "Sequential(\n",
              "  (0): Dropout(p=0.2, inplace=True)\n",
              "  (1): Linear(in_features=1280, out_features=3, bias=True)\n",
              ")"
            ]
          },
          "metadata": {},
          "execution_count": 22
        }
      ]
    },
    {
      "cell_type": "code",
      "source": [
        "summary(model,\n",
        "        input_size=(32,3,224,224),\n",
        "        verbose=0,\n",
        "        col_names=[\"input_size\", \"output_size\", \"num_params\", \"trainable\"],\n",
        "        col_width=20,\n",
        "        row_settings=[\"var_names\"]\n",
        "        )"
      ],
      "metadata": {
        "colab": {
          "base_uri": "https://localhost:8080/"
        },
        "id": "w-c_vWwJh3w1",
        "outputId": "99f29440-f804-4423-a7dd-9955608b2938"
      },
      "execution_count": null,
      "outputs": [
        {
          "output_type": "execute_result",
          "data": {
            "text/plain": [
              "============================================================================================================================================\n",
              "Layer (type (var_name))                                      Input Shape          Output Shape         Param #              Trainable\n",
              "============================================================================================================================================\n",
              "EfficientNet (EfficientNet)                                  [32, 3, 224, 224]    [32, 3]              --                   Partial\n",
              "├─Sequential (features)                                      [32, 3, 224, 224]    [32, 1280, 7, 7]     --                   False\n",
              "│    └─Conv2dNormActivation (0)                              [32, 3, 224, 224]    [32, 32, 112, 112]   --                   False\n",
              "│    │    └─Conv2d (0)                                       [32, 3, 224, 224]    [32, 32, 112, 112]   (864)                False\n",
              "│    │    └─BatchNorm2d (1)                                  [32, 32, 112, 112]   [32, 32, 112, 112]   (64)                 False\n",
              "│    │    └─SiLU (2)                                         [32, 32, 112, 112]   [32, 32, 112, 112]   --                   --\n",
              "│    └─Sequential (1)                                        [32, 32, 112, 112]   [32, 16, 112, 112]   --                   False\n",
              "│    │    └─MBConv (0)                                       [32, 32, 112, 112]   [32, 16, 112, 112]   (1,448)              False\n",
              "│    └─Sequential (2)                                        [32, 16, 112, 112]   [32, 24, 56, 56]     --                   False\n",
              "│    │    └─MBConv (0)                                       [32, 16, 112, 112]   [32, 24, 56, 56]     (6,004)              False\n",
              "│    │    └─MBConv (1)                                       [32, 24, 56, 56]     [32, 24, 56, 56]     (10,710)             False\n",
              "│    └─Sequential (3)                                        [32, 24, 56, 56]     [32, 40, 28, 28]     --                   False\n",
              "│    │    └─MBConv (0)                                       [32, 24, 56, 56]     [32, 40, 28, 28]     (15,350)             False\n",
              "│    │    └─MBConv (1)                                       [32, 40, 28, 28]     [32, 40, 28, 28]     (31,290)             False\n",
              "│    └─Sequential (4)                                        [32, 40, 28, 28]     [32, 80, 14, 14]     --                   False\n",
              "│    │    └─MBConv (0)                                       [32, 40, 28, 28]     [32, 80, 14, 14]     (37,130)             False\n",
              "│    │    └─MBConv (1)                                       [32, 80, 14, 14]     [32, 80, 14, 14]     (102,900)            False\n",
              "│    │    └─MBConv (2)                                       [32, 80, 14, 14]     [32, 80, 14, 14]     (102,900)            False\n",
              "│    └─Sequential (5)                                        [32, 80, 14, 14]     [32, 112, 14, 14]    --                   False\n",
              "│    │    └─MBConv (0)                                       [32, 80, 14, 14]     [32, 112, 14, 14]    (126,004)            False\n",
              "│    │    └─MBConv (1)                                       [32, 112, 14, 14]    [32, 112, 14, 14]    (208,572)            False\n",
              "│    │    └─MBConv (2)                                       [32, 112, 14, 14]    [32, 112, 14, 14]    (208,572)            False\n",
              "│    └─Sequential (6)                                        [32, 112, 14, 14]    [32, 192, 7, 7]      --                   False\n",
              "│    │    └─MBConv (0)                                       [32, 112, 14, 14]    [32, 192, 7, 7]      (262,492)            False\n",
              "│    │    └─MBConv (1)                                       [32, 192, 7, 7]      [32, 192, 7, 7]      (587,952)            False\n",
              "│    │    └─MBConv (2)                                       [32, 192, 7, 7]      [32, 192, 7, 7]      (587,952)            False\n",
              "│    │    └─MBConv (3)                                       [32, 192, 7, 7]      [32, 192, 7, 7]      (587,952)            False\n",
              "│    └─Sequential (7)                                        [32, 192, 7, 7]      [32, 320, 7, 7]      --                   False\n",
              "│    │    └─MBConv (0)                                       [32, 192, 7, 7]      [32, 320, 7, 7]      (717,232)            False\n",
              "│    └─Conv2dNormActivation (8)                              [32, 320, 7, 7]      [32, 1280, 7, 7]     --                   False\n",
              "│    │    └─Conv2d (0)                                       [32, 320, 7, 7]      [32, 1280, 7, 7]     (409,600)            False\n",
              "│    │    └─BatchNorm2d (1)                                  [32, 1280, 7, 7]     [32, 1280, 7, 7]     (2,560)              False\n",
              "│    │    └─SiLU (2)                                         [32, 1280, 7, 7]     [32, 1280, 7, 7]     --                   --\n",
              "├─AdaptiveAvgPool2d (avgpool)                                [32, 1280, 7, 7]     [32, 1280, 1, 1]     --                   --\n",
              "├─Sequential (classifier)                                    [32, 1280]           [32, 3]              --                   True\n",
              "│    └─Dropout (0)                                           [32, 1280]           [32, 1280]           --                   --\n",
              "│    └─Linear (1)                                            [32, 1280]           [32, 3]              3,843                True\n",
              "============================================================================================================================================\n",
              "Total params: 4,011,391\n",
              "Trainable params: 3,843\n",
              "Non-trainable params: 4,007,548\n",
              "Total mult-adds (G): 12.31\n",
              "============================================================================================================================================\n",
              "Input size (MB): 19.27\n",
              "Forward/backward pass size (MB): 3452.09\n",
              "Params size (MB): 16.05\n",
              "Estimated Total Size (MB): 3487.41\n",
              "============================================================================================================================================"
            ]
          },
          "metadata": {},
          "execution_count": 23
        }
      ]
    },
    {
      "cell_type": "markdown",
      "source": [
        "Note: It can be seen above that the only trainable parameters are in the classifier of the model. The other parameters are not trainable because we froze them in previous block of code."
      ],
      "metadata": {
        "id": "xgEg2eZ59TLR"
      }
    },
    {
      "cell_type": "markdown",
      "source": [
        "### Training EfficientNet_B0"
      ],
      "metadata": {
        "id": "trSkyntSAvNd"
      }
    },
    {
      "cell_type": "code",
      "source": [
        "# loss function and optimizer\n",
        "loss_fn = nn.CrossEntropyLoss()\n",
        "optimizer = torch.optim.Adam(params=model.parameters(), lr=0.01)"
      ],
      "metadata": {
        "id": "9h162DKrunic"
      },
      "execution_count": null,
      "outputs": []
    },
    {
      "cell_type": "code",
      "source": [
        "example_input = torch.randn(32, 3, 224, 224).to(device)\n",
        "\n",
        "writer_effnetb0 = create_writer(\n",
        "    experiment_name='effnetb0_transfer_Learning',\n",
        "    model_name=\"effnetb0\",\n",
        "    extra=\"10_epochs\"\n",
        ") # this writer will allow us to log data for later visualization using tensorboard\n",
        "writer_effnetb0"
      ],
      "metadata": {
        "id": "7cTr_U3kunf_",
        "colab": {
          "base_uri": "https://localhost:8080/"
        },
        "outputId": "0b870fb9-2c46-4efc-8faa-2e7f125359f2"
      },
      "execution_count": null,
      "outputs": [
        {
          "output_type": "execute_result",
          "data": {
            "text/plain": [
              "<torch.utils.tensorboard.writer.SummaryWriter at 0x79d514965b40>"
            ]
          },
          "metadata": {},
          "execution_count": 25
        }
      ]
    },
    {
      "cell_type": "code",
      "source": [
        "set_seed()\n",
        "\n",
        "results = train(\n",
        "    model=model,\n",
        "    train_dataloader=train_dataloader,\n",
        "    test_dataloader=test_dataloader,\n",
        "    optimizer=optimizer,\n",
        "    loss_fn=loss_fn,\n",
        "    epochs=30,\n",
        "    device=device,\n",
        "    writer=writer_effnetb0,\n",
        "    example_input=example_input\n",
        ")"
      ],
      "metadata": {
        "id": "6GYwDTZgunXi",
        "colab": {
          "base_uri": "https://localhost:8080/",
          "height": 570,
          "referenced_widgets": [
            "761b332dbac74094ba284bfec306f69d",
            "b2f6a1d1034d48d9b8541d539a280522",
            "22b5deedbba744d5af94599da3366880",
            "91285234861940f7b935e4b035087ab7",
            "a37dfead76354f39a9f3351e668aa96c",
            "2b916a8d6d2342d4ac2ba065dbdb69f7",
            "222ac1eca40c4fd38e2432736fd26a7f",
            "8a6ca596860d4770aaa02f01962528b7",
            "b9131fee6d3d417f92ed56b0473f4404",
            "c06813aa04a94125996e70b81255539f",
            "1b02d6074f234b7cb258c166ad972dcd"
          ]
        },
        "outputId": "b28ca9e6-9361-4c77-b655-b24f9321eb2c"
      },
      "execution_count": null,
      "outputs": [
        {
          "output_type": "display_data",
          "data": {
            "text/plain": [
              "  0%|          | 0/30 [00:00<?, ?it/s]"
            ],
            "application/vnd.jupyter.widget-view+json": {
              "version_major": 2,
              "version_minor": 0,
              "model_id": "761b332dbac74094ba284bfec306f69d"
            }
          },
          "metadata": {}
        },
        {
          "output_type": "stream",
          "name": "stdout",
          "text": [
            "Epoch: 1 | train_loss: 0.8530 | train_acc: 0.6289 | test_loss: 0.4218 | test_acc: 0.8561\n",
            "Epoch: 2 | train_loss: 0.6486 | train_acc: 0.6914 | test_loss: 0.3168 | test_acc: 0.9072\n",
            "Epoch: 3 | train_loss: 0.2929 | train_acc: 0.8984 | test_loss: 0.2883 | test_acc: 0.8968\n",
            "Epoch: 4 | train_loss: 0.3614 | train_acc: 0.8359 | test_loss: 0.2521 | test_acc: 0.9072\n",
            "Epoch: 5 | train_loss: 0.5230 | train_acc: 0.7773 | test_loss: 0.3812 | test_acc: 0.8864\n",
            "Epoch: 6 | train_loss: 0.7808 | train_acc: 0.8242 | test_loss: 0.3218 | test_acc: 0.8447\n",
            "Epoch: 7 | train_loss: 0.1350 | train_acc: 0.9648 | test_loss: 0.3047 | test_acc: 0.9072\n",
            "Epoch: 8 | train_loss: 0.6783 | train_acc: 0.7852 | test_loss: 0.3143 | test_acc: 0.9072\n",
            "Epoch: 9 | train_loss: 0.7029 | train_acc: 0.8281 | test_loss: 0.3401 | test_acc: 0.8551\n",
            "Epoch: 10 | train_loss: 0.8676 | train_acc: 0.7617 | test_loss: 0.2905 | test_acc: 0.8759\n",
            "Epoch: 11 | train_loss: 0.2183 | train_acc: 0.9336 | test_loss: 0.6810 | test_acc: 0.7746\n",
            "Epoch: 12 | train_loss: 0.6164 | train_acc: 0.7930 | test_loss: 0.2176 | test_acc: 0.9280\n",
            "Epoch: 13 | train_loss: 0.8191 | train_acc: 0.7656 | test_loss: 0.4556 | test_acc: 0.8655\n",
            "Epoch: 14 | train_loss: 0.1119 | train_acc: 0.9648 | test_loss: 0.4551 | test_acc: 0.8873\n",
            "Epoch: 15 | train_loss: 0.1968 | train_acc: 0.9219 | test_loss: 0.4294 | test_acc: 0.8759\n",
            "Epoch: 16 | train_loss: 0.1943 | train_acc: 0.9570 | test_loss: 0.3041 | test_acc: 0.8968\n",
            "Epoch: 17 | train_loss: 0.0508 | train_acc: 0.9922 | test_loss: 0.2636 | test_acc: 0.9280\n",
            "Epoch: 18 | train_loss: 0.0919 | train_acc: 0.9766 | test_loss: 0.2885 | test_acc: 0.9072\n",
            "Epoch: 19 | train_loss: 0.0805 | train_acc: 0.9766 | test_loss: 0.3031 | test_acc: 0.9280\n",
            "Epoch: 20 | train_loss: 0.5021 | train_acc: 0.8633 | test_loss: 0.2941 | test_acc: 0.9072\n",
            "Epoch: 21 | train_loss: 0.7918 | train_acc: 0.8086 | test_loss: 0.4174 | test_acc: 0.8759\n",
            "Epoch: 22 | train_loss: 0.8395 | train_acc: 0.8320 | test_loss: 0.5286 | test_acc: 0.8352\n",
            "Epoch: 23 | train_loss: 0.2738 | train_acc: 0.8398 | test_loss: 0.3151 | test_acc: 0.9072\n",
            "Epoch: 24 | train_loss: 0.5608 | train_acc: 0.8047 | test_loss: 0.5927 | test_acc: 0.8551\n",
            "Epoch: 25 | train_loss: 0.4886 | train_acc: 0.8125 | test_loss: 0.4181 | test_acc: 0.8759\n",
            "Epoch: 26 | train_loss: 0.8229 | train_acc: 0.8164 | test_loss: 0.4802 | test_acc: 0.8456\n",
            "Epoch: 27 | train_loss: 0.7904 | train_acc: 0.8125 | test_loss: 0.6988 | test_acc: 0.7746\n",
            "Epoch: 28 | train_loss: 0.1287 | train_acc: 0.9492 | test_loss: 0.4371 | test_acc: 0.8759\n",
            "Epoch: 29 | train_loss: 0.2757 | train_acc: 0.8945 | test_loss: 0.3524 | test_acc: 0.8968\n",
            "Epoch: 30 | train_loss: 0.2056 | train_acc: 0.9531 | test_loss: 0.3575 | test_acc: 0.9176\n"
          ]
        }
      ]
    },
    {
      "cell_type": "code",
      "source": [
        "results"
      ],
      "metadata": {
        "colab": {
          "base_uri": "https://localhost:8080/"
        },
        "id": "Buv0jAK0v0XN",
        "outputId": "f812d3a4-4063-48c9-d9fc-0b01a1e21c8e"
      },
      "execution_count": null,
      "outputs": [
        {
          "output_type": "execute_result",
          "data": {
            "text/plain": [
              "{'train_loss': [0.8530440926551819,\n",
              "  0.6485530640929937,\n",
              "  0.2928703613579273,\n",
              "  0.36142015270888805,\n",
              "  0.5229970254004002,\n",
              "  0.7807909734547138,\n",
              "  0.13504156842827797,\n",
              "  0.6782997893169522,\n",
              "  0.7028559655882418,\n",
              "  0.8675501858815551,\n",
              "  0.21828204812482,\n",
              "  0.6163798240013421,\n",
              "  0.8190612667240202,\n",
              "  0.11188953812234104,\n",
              "  0.19678922556340694,\n",
              "  0.19430125481449068,\n",
              "  0.050814414978958666,\n",
              "  0.09185625449754298,\n",
              "  0.08048972161486745,\n",
              "  0.502085896441713,\n",
              "  0.791793504729867,\n",
              "  0.8395453013945371,\n",
              "  0.2737628670874983,\n",
              "  0.5608353074640036,\n",
              "  0.48855124111287296,\n",
              "  0.8228526320308447,\n",
              "  0.7903845665277913,\n",
              "  0.1287016092101112,\n",
              "  0.2756599234417081,\n",
              "  0.20556397413020022],\n",
              " 'train_acc': [0.62890625,\n",
              "  0.69140625,\n",
              "  0.8984375,\n",
              "  0.8359375,\n",
              "  0.77734375,\n",
              "  0.82421875,\n",
              "  0.96484375,\n",
              "  0.78515625,\n",
              "  0.828125,\n",
              "  0.76171875,\n",
              "  0.93359375,\n",
              "  0.79296875,\n",
              "  0.765625,\n",
              "  0.96484375,\n",
              "  0.921875,\n",
              "  0.95703125,\n",
              "  0.9921875,\n",
              "  0.9765625,\n",
              "  0.9765625,\n",
              "  0.86328125,\n",
              "  0.80859375,\n",
              "  0.83203125,\n",
              "  0.83984375,\n",
              "  0.8046875,\n",
              "  0.8125,\n",
              "  0.81640625,\n",
              "  0.8125,\n",
              "  0.94921875,\n",
              "  0.89453125,\n",
              "  0.953125],\n",
              " 'test_loss': [0.42181938389937085,\n",
              "  0.31675873200098675,\n",
              "  0.2883353183666865,\n",
              "  0.2520551159977913,\n",
              "  0.38122635583082837,\n",
              "  0.32180208961168927,\n",
              "  0.3047043060262998,\n",
              "  0.31426633646090824,\n",
              "  0.34010108808676404,\n",
              "  0.29048341512680054,\n",
              "  0.6809530009826025,\n",
              "  0.21760363628466925,\n",
              "  0.45560208956400555,\n",
              "  0.45510346442461014,\n",
              "  0.42936575909455615,\n",
              "  0.30409525086482364,\n",
              "  0.26356985171635944,\n",
              "  0.28854744633038837,\n",
              "  0.3030977000792821,\n",
              "  0.2940817524989446,\n",
              "  0.41739148646593094,\n",
              "  0.528649610777696,\n",
              "  0.31510063633322716,\n",
              "  0.592733641465505,\n",
              "  0.4180747965971629,\n",
              "  0.4802304357290268,\n",
              "  0.698798805475235,\n",
              "  0.4371216172973315,\n",
              "  0.3523501406113307,\n",
              "  0.35751156757275265],\n",
              " 'test_acc': [0.8560606060606061,\n",
              "  0.9071969696969697,\n",
              "  0.8967803030303031,\n",
              "  0.9071969696969697,\n",
              "  0.8863636363636364,\n",
              "  0.8446969696969697,\n",
              "  0.9071969696969697,\n",
              "  0.9071969696969697,\n",
              "  0.8551136363636364,\n",
              "  0.8759469696969697,\n",
              "  0.774621212121212,\n",
              "  0.9280303030303031,\n",
              "  0.8655303030303031,\n",
              "  0.8873106060606061,\n",
              "  0.8759469696969697,\n",
              "  0.8967803030303031,\n",
              "  0.9280303030303031,\n",
              "  0.9071969696969697,\n",
              "  0.9280303030303031,\n",
              "  0.9071969696969697,\n",
              "  0.8759469696969697,\n",
              "  0.8352272727272728,\n",
              "  0.9071969696969697,\n",
              "  0.8551136363636364,\n",
              "  0.8759469696969697,\n",
              "  0.8456439393939394,\n",
              "  0.774621212121212,\n",
              "  0.8759469696969697,\n",
              "  0.8967803030303031,\n",
              "  0.9176136363636364]}"
            ]
          },
          "metadata": {},
          "execution_count": 27
        }
      ]
    },
    {
      "cell_type": "markdown",
      "source": [
        "## Experiments tracking with Tensorboard"
      ],
      "metadata": {
        "id": "DunvNz7dsD_P"
      }
    },
    {
      "cell_type": "markdown",
      "source": [
        "Note: The writers helped us to stored in a folder called runs, this folder will be use by tensorboard"
      ],
      "metadata": {
        "id": "27ivbBfLCtAL"
      }
    },
    {
      "cell_type": "code",
      "source": [
        "# This code should be uncommented to run in a notebook\n",
        "# %load_ext tensorboard\n",
        "# %tensorboard --logdir runs"
      ],
      "metadata": {
        "id": "Y47LBytE269c"
      },
      "execution_count": null,
      "outputs": []
    },
    {
      "cell_type": "markdown",
      "source": [
        "The Tensorboard looks as below:\n",
        "\n",
        "![Screenshot 2024-05-21 at 9.32.14 PM.png](data:image/png;base64,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)"
      ],
      "metadata": {
        "id": "WA460xN0-Ink"
      }
    }
  ]
}